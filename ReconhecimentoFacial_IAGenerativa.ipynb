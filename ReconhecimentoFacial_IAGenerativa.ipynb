{
  "cells": [
    {
      "cell_type": "markdown",
      "metadata": {
        "id": "view-in-github",
        "colab_type": "text"
      },
      "source": [
        "<a href=\"https://colab.research.google.com/github/andradec/ReconhecimentoFacial/blob/main/ReconhecimentoFacial_IAGenerativa.ipynb\" target=\"_parent\"><img src=\"https://colab.research.google.com/assets/colab-badge.svg\" alt=\"Open In Colab\"/></a>"
      ]
    },
    {
      "cell_type": "code",
      "execution_count": 1,
      "metadata": {
        "colab": {
          "base_uri": "https://localhost:8080/"
        },
        "id": "SAsIzzJW8256",
        "outputId": "7a2db308-2dd6-4465-d0e7-10eafdcba67a"
      },
      "outputs": [
        {
          "output_type": "stream",
          "name": "stdout",
          "text": [
            "Mounted at /content/drive\n"
          ]
        }
      ],
      "source": [
        "from google.colab import drive\n",
        "drive.mount('/content/drive')"
      ]
    },
    {
      "cell_type": "code",
      "execution_count": 2,
      "metadata": {
        "id": "WFhBeRHO_rr-"
      },
      "outputs": [],
      "source": [
        "# Bibliotecas gerais para manipulação de imagens e geração de graficos\n",
        "import os\n",
        "import cv2 as cv\n",
        "import pandas as pd\n",
        "import numpy as np\n",
        "import matplotlib.pyplot as plt\n",
        "import matplotlib.patches as patches\n",
        "\n",
        "#Bibliotecas especificas do modulo Keras utilizadas no desenvolvimento do projeto\n",
        "import tensorflow as tf\n",
        "from tensorflow import keras\n",
        "from keras.models import Sequential\n",
        "from sklearn.metrics import mean_absolute_error\n",
        "from keras.layers import Conv2D, MaxPool2D, GlobalAveragePooling2D, Dropout, BatchNormalization, Dense\n",
        "\n",
        "#Biblioteca utilizada para divisão da base de teste\n",
        "from sklearn.model_selection import train_test_split\n",
        "\n"
      ]
    },
    {
      "cell_type": "code",
      "execution_count": 3,
      "metadata": {
        "id": "3AuHzStj_0Le"
      },
      "outputs": [],
      "source": [
        "df = pd.read_csv(\"/content/drive/My Drive/archive (4)/faces.csv\")\n",
        "df_test = pd.read_csv(\"/content/drive/My Drive/MidJourney/anotacao/annotations.csv\")"
      ]
    },
    {
      "cell_type": "code",
      "execution_count": 4,
      "metadata": {
        "colab": {
          "base_uri": "https://localhost:8080/",
          "height": 206
        },
        "id": "jo-X0eqeXcKR",
        "outputId": "4da88109-844c-4b0b-f670-5c3fd03a60f9"
      },
      "outputs": [
        {
          "output_type": "execute_result",
          "data": {
            "text/plain": [
              "     image_name  width  height   x0   y0    x1   y1\n",
              "0  00001722.jpg   1333    2000  490  320   687  664\n",
              "1  00001044.jpg   2000    1333  791  119  1200  436\n",
              "2  00001050.jpg    667    1000  304  155   407  331\n",
              "3  00001736.jpg    626     417  147   14   519  303\n",
              "4  00003121.jpg    626     418  462   60   599  166"
            ],
            "text/html": [
              "\n",
              "  <div id=\"df-0a994a66-e40a-4e9f-a3cd-3db636997be5\" class=\"colab-df-container\">\n",
              "    <div>\n",
              "<style scoped>\n",
              "    .dataframe tbody tr th:only-of-type {\n",
              "        vertical-align: middle;\n",
              "    }\n",
              "\n",
              "    .dataframe tbody tr th {\n",
              "        vertical-align: top;\n",
              "    }\n",
              "\n",
              "    .dataframe thead th {\n",
              "        text-align: right;\n",
              "    }\n",
              "</style>\n",
              "<table border=\"1\" class=\"dataframe\">\n",
              "  <thead>\n",
              "    <tr style=\"text-align: right;\">\n",
              "      <th></th>\n",
              "      <th>image_name</th>\n",
              "      <th>width</th>\n",
              "      <th>height</th>\n",
              "      <th>x0</th>\n",
              "      <th>y0</th>\n",
              "      <th>x1</th>\n",
              "      <th>y1</th>\n",
              "    </tr>\n",
              "  </thead>\n",
              "  <tbody>\n",
              "    <tr>\n",
              "      <th>0</th>\n",
              "      <td>00001722.jpg</td>\n",
              "      <td>1333</td>\n",
              "      <td>2000</td>\n",
              "      <td>490</td>\n",
              "      <td>320</td>\n",
              "      <td>687</td>\n",
              "      <td>664</td>\n",
              "    </tr>\n",
              "    <tr>\n",
              "      <th>1</th>\n",
              "      <td>00001044.jpg</td>\n",
              "      <td>2000</td>\n",
              "      <td>1333</td>\n",
              "      <td>791</td>\n",
              "      <td>119</td>\n",
              "      <td>1200</td>\n",
              "      <td>436</td>\n",
              "    </tr>\n",
              "    <tr>\n",
              "      <th>2</th>\n",
              "      <td>00001050.jpg</td>\n",
              "      <td>667</td>\n",
              "      <td>1000</td>\n",
              "      <td>304</td>\n",
              "      <td>155</td>\n",
              "      <td>407</td>\n",
              "      <td>331</td>\n",
              "    </tr>\n",
              "    <tr>\n",
              "      <th>3</th>\n",
              "      <td>00001736.jpg</td>\n",
              "      <td>626</td>\n",
              "      <td>417</td>\n",
              "      <td>147</td>\n",
              "      <td>14</td>\n",
              "      <td>519</td>\n",
              "      <td>303</td>\n",
              "    </tr>\n",
              "    <tr>\n",
              "      <th>4</th>\n",
              "      <td>00003121.jpg</td>\n",
              "      <td>626</td>\n",
              "      <td>418</td>\n",
              "      <td>462</td>\n",
              "      <td>60</td>\n",
              "      <td>599</td>\n",
              "      <td>166</td>\n",
              "    </tr>\n",
              "  </tbody>\n",
              "</table>\n",
              "</div>\n",
              "    <div class=\"colab-df-buttons\">\n",
              "\n",
              "  <div class=\"colab-df-container\">\n",
              "    <button class=\"colab-df-convert\" onclick=\"convertToInteractive('df-0a994a66-e40a-4e9f-a3cd-3db636997be5')\"\n",
              "            title=\"Convert this dataframe to an interactive table.\"\n",
              "            style=\"display:none;\">\n",
              "\n",
              "  <svg xmlns=\"http://www.w3.org/2000/svg\" height=\"24px\" viewBox=\"0 -960 960 960\">\n",
              "    <path d=\"M120-120v-720h720v720H120Zm60-500h600v-160H180v160Zm220 220h160v-160H400v160Zm0 220h160v-160H400v160ZM180-400h160v-160H180v160Zm440 0h160v-160H620v160ZM180-180h160v-160H180v160Zm440 0h160v-160H620v160Z\"/>\n",
              "  </svg>\n",
              "    </button>\n",
              "\n",
              "  <style>\n",
              "    .colab-df-container {\n",
              "      display:flex;\n",
              "      gap: 12px;\n",
              "    }\n",
              "\n",
              "    .colab-df-convert {\n",
              "      background-color: #E8F0FE;\n",
              "      border: none;\n",
              "      border-radius: 50%;\n",
              "      cursor: pointer;\n",
              "      display: none;\n",
              "      fill: #1967D2;\n",
              "      height: 32px;\n",
              "      padding: 0 0 0 0;\n",
              "      width: 32px;\n",
              "    }\n",
              "\n",
              "    .colab-df-convert:hover {\n",
              "      background-color: #E2EBFA;\n",
              "      box-shadow: 0px 1px 2px rgba(60, 64, 67, 0.3), 0px 1px 3px 1px rgba(60, 64, 67, 0.15);\n",
              "      fill: #174EA6;\n",
              "    }\n",
              "\n",
              "    .colab-df-buttons div {\n",
              "      margin-bottom: 4px;\n",
              "    }\n",
              "\n",
              "    [theme=dark] .colab-df-convert {\n",
              "      background-color: #3B4455;\n",
              "      fill: #D2E3FC;\n",
              "    }\n",
              "\n",
              "    [theme=dark] .colab-df-convert:hover {\n",
              "      background-color: #434B5C;\n",
              "      box-shadow: 0px 1px 3px 1px rgba(0, 0, 0, 0.15);\n",
              "      filter: drop-shadow(0px 1px 2px rgba(0, 0, 0, 0.3));\n",
              "      fill: #FFFFFF;\n",
              "    }\n",
              "  </style>\n",
              "\n",
              "    <script>\n",
              "      const buttonEl =\n",
              "        document.querySelector('#df-0a994a66-e40a-4e9f-a3cd-3db636997be5 button.colab-df-convert');\n",
              "      buttonEl.style.display =\n",
              "        google.colab.kernel.accessAllowed ? 'block' : 'none';\n",
              "\n",
              "      async function convertToInteractive(key) {\n",
              "        const element = document.querySelector('#df-0a994a66-e40a-4e9f-a3cd-3db636997be5');\n",
              "        const dataTable =\n",
              "          await google.colab.kernel.invokeFunction('convertToInteractive',\n",
              "                                                    [key], {});\n",
              "        if (!dataTable) return;\n",
              "\n",
              "        const docLinkHtml = 'Like what you see? Visit the ' +\n",
              "          '<a target=\"_blank\" href=https://colab.research.google.com/notebooks/data_table.ipynb>data table notebook</a>'\n",
              "          + ' to learn more about interactive tables.';\n",
              "        element.innerHTML = '';\n",
              "        dataTable['output_type'] = 'display_data';\n",
              "        await google.colab.output.renderOutput(dataTable, element);\n",
              "        const docLink = document.createElement('div');\n",
              "        docLink.innerHTML = docLinkHtml;\n",
              "        element.appendChild(docLink);\n",
              "      }\n",
              "    </script>\n",
              "  </div>\n",
              "\n",
              "\n",
              "<div id=\"df-510d290e-e3dc-43b5-af6f-bfdc2c1fb783\">\n",
              "  <button class=\"colab-df-quickchart\" onclick=\"quickchart('df-510d290e-e3dc-43b5-af6f-bfdc2c1fb783')\"\n",
              "            title=\"Suggest charts.\"\n",
              "            style=\"display:none;\">\n",
              "\n",
              "<svg xmlns=\"http://www.w3.org/2000/svg\" height=\"24px\"viewBox=\"0 0 24 24\"\n",
              "     width=\"24px\">\n",
              "    <g>\n",
              "        <path d=\"M19 3H5c-1.1 0-2 .9-2 2v14c0 1.1.9 2 2 2h14c1.1 0 2-.9 2-2V5c0-1.1-.9-2-2-2zM9 17H7v-7h2v7zm4 0h-2V7h2v10zm4 0h-2v-4h2v4z\"/>\n",
              "    </g>\n",
              "</svg>\n",
              "  </button>\n",
              "\n",
              "<style>\n",
              "  .colab-df-quickchart {\n",
              "      --bg-color: #E8F0FE;\n",
              "      --fill-color: #1967D2;\n",
              "      --hover-bg-color: #E2EBFA;\n",
              "      --hover-fill-color: #174EA6;\n",
              "      --disabled-fill-color: #AAA;\n",
              "      --disabled-bg-color: #DDD;\n",
              "  }\n",
              "\n",
              "  [theme=dark] .colab-df-quickchart {\n",
              "      --bg-color: #3B4455;\n",
              "      --fill-color: #D2E3FC;\n",
              "      --hover-bg-color: #434B5C;\n",
              "      --hover-fill-color: #FFFFFF;\n",
              "      --disabled-bg-color: #3B4455;\n",
              "      --disabled-fill-color: #666;\n",
              "  }\n",
              "\n",
              "  .colab-df-quickchart {\n",
              "    background-color: var(--bg-color);\n",
              "    border: none;\n",
              "    border-radius: 50%;\n",
              "    cursor: pointer;\n",
              "    display: none;\n",
              "    fill: var(--fill-color);\n",
              "    height: 32px;\n",
              "    padding: 0;\n",
              "    width: 32px;\n",
              "  }\n",
              "\n",
              "  .colab-df-quickchart:hover {\n",
              "    background-color: var(--hover-bg-color);\n",
              "    box-shadow: 0 1px 2px rgba(60, 64, 67, 0.3), 0 1px 3px 1px rgba(60, 64, 67, 0.15);\n",
              "    fill: var(--button-hover-fill-color);\n",
              "  }\n",
              "\n",
              "  .colab-df-quickchart-complete:disabled,\n",
              "  .colab-df-quickchart-complete:disabled:hover {\n",
              "    background-color: var(--disabled-bg-color);\n",
              "    fill: var(--disabled-fill-color);\n",
              "    box-shadow: none;\n",
              "  }\n",
              "\n",
              "  .colab-df-spinner {\n",
              "    border: 2px solid var(--fill-color);\n",
              "    border-color: transparent;\n",
              "    border-bottom-color: var(--fill-color);\n",
              "    animation:\n",
              "      spin 1s steps(1) infinite;\n",
              "  }\n",
              "\n",
              "  @keyframes spin {\n",
              "    0% {\n",
              "      border-color: transparent;\n",
              "      border-bottom-color: var(--fill-color);\n",
              "      border-left-color: var(--fill-color);\n",
              "    }\n",
              "    20% {\n",
              "      border-color: transparent;\n",
              "      border-left-color: var(--fill-color);\n",
              "      border-top-color: var(--fill-color);\n",
              "    }\n",
              "    30% {\n",
              "      border-color: transparent;\n",
              "      border-left-color: var(--fill-color);\n",
              "      border-top-color: var(--fill-color);\n",
              "      border-right-color: var(--fill-color);\n",
              "    }\n",
              "    40% {\n",
              "      border-color: transparent;\n",
              "      border-right-color: var(--fill-color);\n",
              "      border-top-color: var(--fill-color);\n",
              "    }\n",
              "    60% {\n",
              "      border-color: transparent;\n",
              "      border-right-color: var(--fill-color);\n",
              "    }\n",
              "    80% {\n",
              "      border-color: transparent;\n",
              "      border-right-color: var(--fill-color);\n",
              "      border-bottom-color: var(--fill-color);\n",
              "    }\n",
              "    90% {\n",
              "      border-color: transparent;\n",
              "      border-bottom-color: var(--fill-color);\n",
              "    }\n",
              "  }\n",
              "</style>\n",
              "\n",
              "  <script>\n",
              "    async function quickchart(key) {\n",
              "      const quickchartButtonEl =\n",
              "        document.querySelector('#' + key + ' button');\n",
              "      quickchartButtonEl.disabled = true;  // To prevent multiple clicks.\n",
              "      quickchartButtonEl.classList.add('colab-df-spinner');\n",
              "      try {\n",
              "        const charts = await google.colab.kernel.invokeFunction(\n",
              "            'suggestCharts', [key], {});\n",
              "      } catch (error) {\n",
              "        console.error('Error during call to suggestCharts:', error);\n",
              "      }\n",
              "      quickchartButtonEl.classList.remove('colab-df-spinner');\n",
              "      quickchartButtonEl.classList.add('colab-df-quickchart-complete');\n",
              "    }\n",
              "    (() => {\n",
              "      let quickchartButtonEl =\n",
              "        document.querySelector('#df-510d290e-e3dc-43b5-af6f-bfdc2c1fb783 button');\n",
              "      quickchartButtonEl.style.display =\n",
              "        google.colab.kernel.accessAllowed ? 'block' : 'none';\n",
              "    })();\n",
              "  </script>\n",
              "</div>\n",
              "    </div>\n",
              "  </div>\n"
            ]
          },
          "metadata": {},
          "execution_count": 4
        }
      ],
      "source": [
        "df.head()"
      ]
    },
    {
      "cell_type": "code",
      "execution_count": 5,
      "metadata": {
        "colab": {
          "base_uri": "https://localhost:8080/",
          "height": 206
        },
        "id": "mHct_my6L3di",
        "outputId": "69bd0cde-c74e-42ee-904f-55c45b12082b"
      },
      "outputs": [
        {
          "output_type": "execute_result",
          "data": {
            "text/plain": [
              "                                          image_name  width  height      x0  \\\n",
              "0  Jsan_Create_a_art_print_inspired_on_salvador_d...   1024    1024  233.62   \n",
              "1  Jsan_Create_a_art_print_inspired_on_salvador_d...   1024    1024  269.93   \n",
              "2  Jsan_Create_a_art_print_with_reference_of_most...   1024    1024  177.94   \n",
              "3  Jsan_Create_a_art_print_with_reference_of_most...   1024    1024  271.15   \n",
              "4  Jsan_Create_a_art_print_with_reference_of_most...   1024    1024  407.92   \n",
              "\n",
              "       y0       x1       y1  \n",
              "0   59.32   806.14   802.51  \n",
              "1  134.37   787.99   691.15  \n",
              "2   99.27   775.88  1022.80  \n",
              "3   10.91   841.24   712.94  \n",
              "4   16.96  1024.00   766.20  "
            ],
            "text/html": [
              "\n",
              "  <div id=\"df-6ec098ce-de70-40d3-b2c7-3eacb6c5f12a\" class=\"colab-df-container\">\n",
              "    <div>\n",
              "<style scoped>\n",
              "    .dataframe tbody tr th:only-of-type {\n",
              "        vertical-align: middle;\n",
              "    }\n",
              "\n",
              "    .dataframe tbody tr th {\n",
              "        vertical-align: top;\n",
              "    }\n",
              "\n",
              "    .dataframe thead th {\n",
              "        text-align: right;\n",
              "    }\n",
              "</style>\n",
              "<table border=\"1\" class=\"dataframe\">\n",
              "  <thead>\n",
              "    <tr style=\"text-align: right;\">\n",
              "      <th></th>\n",
              "      <th>image_name</th>\n",
              "      <th>width</th>\n",
              "      <th>height</th>\n",
              "      <th>x0</th>\n",
              "      <th>y0</th>\n",
              "      <th>x1</th>\n",
              "      <th>y1</th>\n",
              "    </tr>\n",
              "  </thead>\n",
              "  <tbody>\n",
              "    <tr>\n",
              "      <th>0</th>\n",
              "      <td>Jsan_Create_a_art_print_inspired_on_salvador_d...</td>\n",
              "      <td>1024</td>\n",
              "      <td>1024</td>\n",
              "      <td>233.62</td>\n",
              "      <td>59.32</td>\n",
              "      <td>806.14</td>\n",
              "      <td>802.51</td>\n",
              "    </tr>\n",
              "    <tr>\n",
              "      <th>1</th>\n",
              "      <td>Jsan_Create_a_art_print_inspired_on_salvador_d...</td>\n",
              "      <td>1024</td>\n",
              "      <td>1024</td>\n",
              "      <td>269.93</td>\n",
              "      <td>134.37</td>\n",
              "      <td>787.99</td>\n",
              "      <td>691.15</td>\n",
              "    </tr>\n",
              "    <tr>\n",
              "      <th>2</th>\n",
              "      <td>Jsan_Create_a_art_print_with_reference_of_most...</td>\n",
              "      <td>1024</td>\n",
              "      <td>1024</td>\n",
              "      <td>177.94</td>\n",
              "      <td>99.27</td>\n",
              "      <td>775.88</td>\n",
              "      <td>1022.80</td>\n",
              "    </tr>\n",
              "    <tr>\n",
              "      <th>3</th>\n",
              "      <td>Jsan_Create_a_art_print_with_reference_of_most...</td>\n",
              "      <td>1024</td>\n",
              "      <td>1024</td>\n",
              "      <td>271.15</td>\n",
              "      <td>10.91</td>\n",
              "      <td>841.24</td>\n",
              "      <td>712.94</td>\n",
              "    </tr>\n",
              "    <tr>\n",
              "      <th>4</th>\n",
              "      <td>Jsan_Create_a_art_print_with_reference_of_most...</td>\n",
              "      <td>1024</td>\n",
              "      <td>1024</td>\n",
              "      <td>407.92</td>\n",
              "      <td>16.96</td>\n",
              "      <td>1024.00</td>\n",
              "      <td>766.20</td>\n",
              "    </tr>\n",
              "  </tbody>\n",
              "</table>\n",
              "</div>\n",
              "    <div class=\"colab-df-buttons\">\n",
              "\n",
              "  <div class=\"colab-df-container\">\n",
              "    <button class=\"colab-df-convert\" onclick=\"convertToInteractive('df-6ec098ce-de70-40d3-b2c7-3eacb6c5f12a')\"\n",
              "            title=\"Convert this dataframe to an interactive table.\"\n",
              "            style=\"display:none;\">\n",
              "\n",
              "  <svg xmlns=\"http://www.w3.org/2000/svg\" height=\"24px\" viewBox=\"0 -960 960 960\">\n",
              "    <path d=\"M120-120v-720h720v720H120Zm60-500h600v-160H180v160Zm220 220h160v-160H400v160Zm0 220h160v-160H400v160ZM180-400h160v-160H180v160Zm440 0h160v-160H620v160ZM180-180h160v-160H180v160Zm440 0h160v-160H620v160Z\"/>\n",
              "  </svg>\n",
              "    </button>\n",
              "\n",
              "  <style>\n",
              "    .colab-df-container {\n",
              "      display:flex;\n",
              "      gap: 12px;\n",
              "    }\n",
              "\n",
              "    .colab-df-convert {\n",
              "      background-color: #E8F0FE;\n",
              "      border: none;\n",
              "      border-radius: 50%;\n",
              "      cursor: pointer;\n",
              "      display: none;\n",
              "      fill: #1967D2;\n",
              "      height: 32px;\n",
              "      padding: 0 0 0 0;\n",
              "      width: 32px;\n",
              "    }\n",
              "\n",
              "    .colab-df-convert:hover {\n",
              "      background-color: #E2EBFA;\n",
              "      box-shadow: 0px 1px 2px rgba(60, 64, 67, 0.3), 0px 1px 3px 1px rgba(60, 64, 67, 0.15);\n",
              "      fill: #174EA6;\n",
              "    }\n",
              "\n",
              "    .colab-df-buttons div {\n",
              "      margin-bottom: 4px;\n",
              "    }\n",
              "\n",
              "    [theme=dark] .colab-df-convert {\n",
              "      background-color: #3B4455;\n",
              "      fill: #D2E3FC;\n",
              "    }\n",
              "\n",
              "    [theme=dark] .colab-df-convert:hover {\n",
              "      background-color: #434B5C;\n",
              "      box-shadow: 0px 1px 3px 1px rgba(0, 0, 0, 0.15);\n",
              "      filter: drop-shadow(0px 1px 2px rgba(0, 0, 0, 0.3));\n",
              "      fill: #FFFFFF;\n",
              "    }\n",
              "  </style>\n",
              "\n",
              "    <script>\n",
              "      const buttonEl =\n",
              "        document.querySelector('#df-6ec098ce-de70-40d3-b2c7-3eacb6c5f12a button.colab-df-convert');\n",
              "      buttonEl.style.display =\n",
              "        google.colab.kernel.accessAllowed ? 'block' : 'none';\n",
              "\n",
              "      async function convertToInteractive(key) {\n",
              "        const element = document.querySelector('#df-6ec098ce-de70-40d3-b2c7-3eacb6c5f12a');\n",
              "        const dataTable =\n",
              "          await google.colab.kernel.invokeFunction('convertToInteractive',\n",
              "                                                    [key], {});\n",
              "        if (!dataTable) return;\n",
              "\n",
              "        const docLinkHtml = 'Like what you see? Visit the ' +\n",
              "          '<a target=\"_blank\" href=https://colab.research.google.com/notebooks/data_table.ipynb>data table notebook</a>'\n",
              "          + ' to learn more about interactive tables.';\n",
              "        element.innerHTML = '';\n",
              "        dataTable['output_type'] = 'display_data';\n",
              "        await google.colab.output.renderOutput(dataTable, element);\n",
              "        const docLink = document.createElement('div');\n",
              "        docLink.innerHTML = docLinkHtml;\n",
              "        element.appendChild(docLink);\n",
              "      }\n",
              "    </script>\n",
              "  </div>\n",
              "\n",
              "\n",
              "<div id=\"df-57622d68-0ae7-49a0-a914-9927b97aee05\">\n",
              "  <button class=\"colab-df-quickchart\" onclick=\"quickchart('df-57622d68-0ae7-49a0-a914-9927b97aee05')\"\n",
              "            title=\"Suggest charts.\"\n",
              "            style=\"display:none;\">\n",
              "\n",
              "<svg xmlns=\"http://www.w3.org/2000/svg\" height=\"24px\"viewBox=\"0 0 24 24\"\n",
              "     width=\"24px\">\n",
              "    <g>\n",
              "        <path d=\"M19 3H5c-1.1 0-2 .9-2 2v14c0 1.1.9 2 2 2h14c1.1 0 2-.9 2-2V5c0-1.1-.9-2-2-2zM9 17H7v-7h2v7zm4 0h-2V7h2v10zm4 0h-2v-4h2v4z\"/>\n",
              "    </g>\n",
              "</svg>\n",
              "  </button>\n",
              "\n",
              "<style>\n",
              "  .colab-df-quickchart {\n",
              "      --bg-color: #E8F0FE;\n",
              "      --fill-color: #1967D2;\n",
              "      --hover-bg-color: #E2EBFA;\n",
              "      --hover-fill-color: #174EA6;\n",
              "      --disabled-fill-color: #AAA;\n",
              "      --disabled-bg-color: #DDD;\n",
              "  }\n",
              "\n",
              "  [theme=dark] .colab-df-quickchart {\n",
              "      --bg-color: #3B4455;\n",
              "      --fill-color: #D2E3FC;\n",
              "      --hover-bg-color: #434B5C;\n",
              "      --hover-fill-color: #FFFFFF;\n",
              "      --disabled-bg-color: #3B4455;\n",
              "      --disabled-fill-color: #666;\n",
              "  }\n",
              "\n",
              "  .colab-df-quickchart {\n",
              "    background-color: var(--bg-color);\n",
              "    border: none;\n",
              "    border-radius: 50%;\n",
              "    cursor: pointer;\n",
              "    display: none;\n",
              "    fill: var(--fill-color);\n",
              "    height: 32px;\n",
              "    padding: 0;\n",
              "    width: 32px;\n",
              "  }\n",
              "\n",
              "  .colab-df-quickchart:hover {\n",
              "    background-color: var(--hover-bg-color);\n",
              "    box-shadow: 0 1px 2px rgba(60, 64, 67, 0.3), 0 1px 3px 1px rgba(60, 64, 67, 0.15);\n",
              "    fill: var(--button-hover-fill-color);\n",
              "  }\n",
              "\n",
              "  .colab-df-quickchart-complete:disabled,\n",
              "  .colab-df-quickchart-complete:disabled:hover {\n",
              "    background-color: var(--disabled-bg-color);\n",
              "    fill: var(--disabled-fill-color);\n",
              "    box-shadow: none;\n",
              "  }\n",
              "\n",
              "  .colab-df-spinner {\n",
              "    border: 2px solid var(--fill-color);\n",
              "    border-color: transparent;\n",
              "    border-bottom-color: var(--fill-color);\n",
              "    animation:\n",
              "      spin 1s steps(1) infinite;\n",
              "  }\n",
              "\n",
              "  @keyframes spin {\n",
              "    0% {\n",
              "      border-color: transparent;\n",
              "      border-bottom-color: var(--fill-color);\n",
              "      border-left-color: var(--fill-color);\n",
              "    }\n",
              "    20% {\n",
              "      border-color: transparent;\n",
              "      border-left-color: var(--fill-color);\n",
              "      border-top-color: var(--fill-color);\n",
              "    }\n",
              "    30% {\n",
              "      border-color: transparent;\n",
              "      border-left-color: var(--fill-color);\n",
              "      border-top-color: var(--fill-color);\n",
              "      border-right-color: var(--fill-color);\n",
              "    }\n",
              "    40% {\n",
              "      border-color: transparent;\n",
              "      border-right-color: var(--fill-color);\n",
              "      border-top-color: var(--fill-color);\n",
              "    }\n",
              "    60% {\n",
              "      border-color: transparent;\n",
              "      border-right-color: var(--fill-color);\n",
              "    }\n",
              "    80% {\n",
              "      border-color: transparent;\n",
              "      border-right-color: var(--fill-color);\n",
              "      border-bottom-color: var(--fill-color);\n",
              "    }\n",
              "    90% {\n",
              "      border-color: transparent;\n",
              "      border-bottom-color: var(--fill-color);\n",
              "    }\n",
              "  }\n",
              "</style>\n",
              "\n",
              "  <script>\n",
              "    async function quickchart(key) {\n",
              "      const quickchartButtonEl =\n",
              "        document.querySelector('#' + key + ' button');\n",
              "      quickchartButtonEl.disabled = true;  // To prevent multiple clicks.\n",
              "      quickchartButtonEl.classList.add('colab-df-spinner');\n",
              "      try {\n",
              "        const charts = await google.colab.kernel.invokeFunction(\n",
              "            'suggestCharts', [key], {});\n",
              "      } catch (error) {\n",
              "        console.error('Error during call to suggestCharts:', error);\n",
              "      }\n",
              "      quickchartButtonEl.classList.remove('colab-df-spinner');\n",
              "      quickchartButtonEl.classList.add('colab-df-quickchart-complete');\n",
              "    }\n",
              "    (() => {\n",
              "      let quickchartButtonEl =\n",
              "        document.querySelector('#df-57622d68-0ae7-49a0-a914-9927b97aee05 button');\n",
              "      quickchartButtonEl.style.display =\n",
              "        google.colab.kernel.accessAllowed ? 'block' : 'none';\n",
              "    })();\n",
              "  </script>\n",
              "</div>\n",
              "    </div>\n",
              "  </div>\n"
            ]
          },
          "metadata": {},
          "execution_count": 5
        }
      ],
      "source": [
        "df_test.head()"
      ]
    },
    {
      "cell_type": "code",
      "execution_count": 6,
      "metadata": {
        "id": "BUa_BVHRXeWt"
      },
      "outputs": [],
      "source": [
        "data = {}\n",
        "for i in df[\"image_name\"]:\n",
        "  if i not in data:\n",
        "    data[i] = []\n",
        "for idx, img_name in enumerate(df[\"image_name\"]):\n",
        "      width = df[\"width\"][idx]\n",
        "      height = df[\"height\"][idx]\n",
        "      x1 = df[\"x0\"][idx]\n",
        "      y1 = df[\"y0\"][idx]\n",
        "      x2 = df[\"x1\"][idx]\n",
        "      y2 = df[\"y1\"][idx]\n",
        "\n",
        "      new_x1 = int((x1/width)*128)\n",
        "      new_y1 = int((y1/height)*128)\n",
        "      new_x2 = int((x2/width)*128)\n",
        "      new_y2 = int((y2/height)*128)\n",
        "\n",
        "      data[img_name].append(new_x1)\n",
        "      data[img_name].append(new_y1)\n",
        "      data[img_name].append(new_x2)\n",
        "      data[img_name].append(new_y2)"
      ]
    },
    {
      "cell_type": "code",
      "execution_count": 7,
      "metadata": {
        "id": "zURCAyKLMNIO"
      },
      "outputs": [],
      "source": [
        "data_test = {}\n",
        "for i in df_test[\"image_name\"]:\n",
        "  if i not in data_test:\n",
        "    data_test[i] = []\n",
        "for idx, img_name in enumerate(df_test[\"image_name\"]):\n",
        "      width = df_test[\"width\"][idx]\n",
        "      height = df_test[\"height\"][idx]\n",
        "      x1 = df_test[\"x0\"][idx]\n",
        "      y1 = df_test[\"y0\"][idx]\n",
        "      x2 = df_test[\"x1\"][idx]\n",
        "      y2 = df_test[\"y1\"][idx]\n",
        "\n",
        "      new_x1 = int((x1/width)*128)\n",
        "      new_y1 = int((y1/height)*128)\n",
        "      new_x2 = int((x2/width)*128)\n",
        "      new_y2 = int((y2/height)*128)\n",
        "\n",
        "      data_test[img_name].append(new_x1)\n",
        "      data_test[img_name].append(new_y1)\n",
        "      data_test[img_name].append(new_x2)\n",
        "      data_test[img_name].append(new_y2)"
      ]
    },
    {
      "cell_type": "code",
      "execution_count": null,
      "metadata": {
        "id": "s3uxvcGmYGAx"
      },
      "outputs": [],
      "source": [
        "print(df)"
      ]
    },
    {
      "cell_type": "code",
      "execution_count": null,
      "metadata": {
        "id": "YUr4ApEYMdnx"
      },
      "outputs": [],
      "source": [
        "print(df_test)"
      ]
    },
    {
      "cell_type": "code",
      "execution_count": 10,
      "metadata": {
        "id": "LQvqLQ6cYLTw"
      },
      "outputs": [],
      "source": [
        "img_dir = os.listdir('/content/drive/My Drive/archive (4)/images')\n",
        "images = []\n",
        "for img_name in data.keys():\n",
        "    for itr in img_dir:\n",
        "      if img_name==itr:\n",
        "        img_arr = cv.imread(os.path.join('/content/drive/My Drive/archive (4)/images', img_name), cv.IMREAD_GRAYSCALE)\n",
        "        resized_img = cv.resize(img_arr, (128, 128))\n",
        "        images.append(resized_img)"
      ]
    },
    {
      "cell_type": "code",
      "execution_count": 11,
      "metadata": {
        "id": "cjJlcHOMMgqR"
      },
      "outputs": [],
      "source": [
        "img_dir_test = os.listdir('/content/drive/My Drive/MidJourney')\n",
        "images_test = []\n",
        "for img_name in data_test.keys():\n",
        "    for itr in img_dir_test:\n",
        "      if img_name==itr:\n",
        "        img_arr_test = cv.imread(os.path.join('/content/drive/My Drive/MidJourney', img_name), cv.IMREAD_GRAYSCALE)\n",
        "        resized_img_test = cv.resize(img_arr_test, (128, 128))\n",
        "        images_test.append(resized_img_test)"
      ]
    },
    {
      "cell_type": "code",
      "execution_count": 12,
      "metadata": {
        "id": "WhytYlWrYMZd"
      },
      "outputs": [],
      "source": [
        "bbox = []\n",
        "for boxes in data.keys():\n",
        "  bbox.append(data[boxes])"
      ]
    },
    {
      "cell_type": "code",
      "execution_count": 13,
      "metadata": {
        "id": "fMUxdltwM3Vs"
      },
      "outputs": [],
      "source": [
        "bbox_test = []\n",
        "for boxes in data_test.keys():\n",
        "  bbox_test.append(data_test[boxes])"
      ]
    },
    {
      "cell_type": "code",
      "execution_count": 14,
      "metadata": {
        "id": "5pMnMXpnYa1k"
      },
      "outputs": [],
      "source": [
        "images = np.array(images)"
      ]
    },
    {
      "cell_type": "code",
      "execution_count": 15,
      "metadata": {
        "id": "uDpk8x0YNDNf"
      },
      "outputs": [],
      "source": [
        "images_test = np.array(images_test)"
      ]
    },
    {
      "cell_type": "code",
      "execution_count": 16,
      "metadata": {
        "id": "riQ3GCS4GDAY"
      },
      "outputs": [],
      "source": [
        "images = np.expand_dims(images, axis=3)"
      ]
    },
    {
      "cell_type": "code",
      "execution_count": 17,
      "metadata": {
        "id": "cDpp5FqkNGmC"
      },
      "outputs": [],
      "source": [
        "images_test = np.expand_dims(images_test, axis=3)"
      ]
    },
    {
      "cell_type": "code",
      "execution_count": 18,
      "metadata": {
        "colab": {
          "base_uri": "https://localhost:8080/"
        },
        "id": "yY0Qkr-sGF2g",
        "outputId": "a401d651-1f54-4118-8bd0-860cef9e8c7c"
      },
      "outputs": [
        {
          "output_type": "stream",
          "name": "stdout",
          "text": [
            "shape of images (2204, 128, 128, 1)\n"
          ]
        }
      ],
      "source": [
        "print(f\"shape of images {images.shape}\")"
      ]
    },
    {
      "cell_type": "code",
      "execution_count": 19,
      "metadata": {
        "colab": {
          "base_uri": "https://localhost:8080/"
        },
        "id": "gYZ4ScqwNLIr",
        "outputId": "b52d2477-2c84-4fe6-f280-d849adb10559"
      },
      "outputs": [
        {
          "output_type": "stream",
          "name": "stdout",
          "text": [
            "shape of images test (50, 128, 128, 1)\n"
          ]
        }
      ],
      "source": [
        "print(f\"shape of images test {images_test.shape}\")"
      ]
    },
    {
      "cell_type": "code",
      "execution_count": 20,
      "metadata": {
        "colab": {
          "base_uri": "https://localhost:8080/"
        },
        "id": "pfpLdRbqGIw4",
        "outputId": "d47e783f-1a51-43ed-ca4f-aa564d36af76"
      },
      "outputs": [
        {
          "output_type": "stream",
          "name": "stdout",
          "text": [
            "the max faces in the image are 12\n"
          ]
        }
      ],
      "source": [
        "max_bbox = 0\n",
        "for i in range(len(bbox)):\n",
        "  max_bbox = max(max_bbox, len(bbox[i]))\n",
        "print(f\"the max faces in the image are {int(max_bbox/4)}\")"
      ]
    },
    {
      "cell_type": "code",
      "execution_count": 21,
      "metadata": {
        "colab": {
          "base_uri": "https://localhost:8080/"
        },
        "id": "kXe-26l1N09O",
        "outputId": "07348edf-1381-4e30-d5dd-7b711bb1299f"
      },
      "outputs": [
        {
          "output_type": "stream",
          "name": "stdout",
          "text": [
            "the max faces in the image are 2\n"
          ]
        }
      ],
      "source": [
        "max_bbox_test = 0\n",
        "for i in range(len(bbox_test)):\n",
        "  max_bbox_test = max(max_bbox_test, len(bbox_test[i]))\n",
        "print(f\"the max faces in the image are {int(max_bbox_test/4)}\")"
      ]
    },
    {
      "cell_type": "code",
      "execution_count": 22,
      "metadata": {
        "id": "EYxBqGGKGMzQ"
      },
      "outputs": [],
      "source": [
        "for i in range(len(bbox)):\n",
        "  if int(max_bbox) - len(bbox[i])!=0:\n",
        "    for j in range(int(max_bbox) - len(bbox[i])):\n",
        "      bbox[i].append(0)"
      ]
    },
    {
      "cell_type": "code",
      "execution_count": 23,
      "metadata": {
        "id": "FKAqfXXmN9IB"
      },
      "outputs": [],
      "source": [
        "for i in range(len(bbox_test)):\n",
        "  if int(max_bbox_test) - len(bbox_test[i])!=0:\n",
        "    for j in range(int(max_bbox_test) - len(bbox_test[i])):\n",
        "      bbox_test[i].append(0)"
      ]
    },
    {
      "cell_type": "code",
      "execution_count": 24,
      "metadata": {
        "id": "WsdA-xWPGOn3"
      },
      "outputs": [],
      "source": [
        "bbox = np.array(bbox)"
      ]
    },
    {
      "cell_type": "code",
      "execution_count": 25,
      "metadata": {
        "id": "UIKQzki_OC04"
      },
      "outputs": [],
      "source": [
        "bbox_test = np.array(bbox_test)"
      ]
    },
    {
      "cell_type": "code",
      "execution_count": 26,
      "metadata": {
        "colab": {
          "base_uri": "https://localhost:8080/"
        },
        "id": "RYNLRB38GQvX",
        "outputId": "1cb8d145-860a-4ad8-b4bc-641f369a07a7"
      },
      "outputs": [
        {
          "output_type": "stream",
          "name": "stdout",
          "text": [
            "shape of bbox (2204, 48)\n"
          ]
        }
      ],
      "source": [
        "print(f\"shape of bbox {bbox.shape}\")"
      ]
    },
    {
      "cell_type": "code",
      "execution_count": 27,
      "metadata": {
        "colab": {
          "base_uri": "https://localhost:8080/"
        },
        "id": "nNOGuG7xOIt0",
        "outputId": "8d543170-8203-49ce-e2b7-ac1bb4022314"
      },
      "outputs": [
        {
          "output_type": "stream",
          "name": "stdout",
          "text": [
            "shape of bbox test (50, 8)\n"
          ]
        }
      ],
      "source": [
        "print(f\"shape of bbox test {bbox_test.shape}\")"
      ]
    },
    {
      "cell_type": "code",
      "execution_count": 28,
      "metadata": {
        "id": "hNp7nnNeGTKn"
      },
      "outputs": [],
      "source": [
        "images = images/255\n",
        "bbox = bbox/128"
      ]
    },
    {
      "cell_type": "code",
      "execution_count": 29,
      "metadata": {
        "id": "xb350KwdOMVs"
      },
      "outputs": [],
      "source": [
        "images_test = images_test/255\n",
        "bbox_test = bbox_test/128"
      ]
    },
    {
      "cell_type": "code",
      "execution_count": null,
      "metadata": {
        "id": "5wwte6xcGVev"
      },
      "outputs": [],
      "source": [
        "plt.figure(figsize=(15,10))\n",
        "for i in range(25):\n",
        "  plt.subplot(5, 5, i+1)\n",
        "  plt.imshow(images[i], cmap='gray')\n",
        "  plt.axis(\"off\")"
      ]
    },
    {
      "cell_type": "code",
      "execution_count": null,
      "metadata": {
        "id": "Em6KpfLaOShc"
      },
      "outputs": [],
      "source": [
        "plt.figure(figsize=(15,10))\n",
        "for i in range(25):\n",
        "  plt.subplot(5, 5, i+1)\n",
        "  plt.imshow(images_test[i], cmap='gray')\n",
        "  plt.axis(\"off\")"
      ]
    },
    {
      "cell_type": "code",
      "execution_count": 32,
      "metadata": {
        "id": "e9cvszWUGYuf"
      },
      "outputs": [],
      "source": [
        "x_train, x_test, y_train, y_test = train_test_split(images, bbox, test_size=0.1, random_state=22)\n",
        "x_train1, x_test1, y_train1, y_test1 =  train_test_split(images, bbox, test_size=0.0227, random_state=22)"
      ]
    },
    {
      "cell_type": "code",
      "source": [
        "conjunto_val = 50\n",
        "indice_inicial = 0\n",
        "conjunto_imagens = y_test1[indice_inicial:indice_inicial + conjunto_val]\n"
      ],
      "metadata": {
        "id": "yqafX45NA09b"
      },
      "execution_count": 33,
      "outputs": []
    },
    {
      "cell_type": "code",
      "execution_count": 34,
      "metadata": {
        "id": "GiFL5MBjGdQf"
      },
      "outputs": [],
      "source": [
        "model1 = Sequential()\n",
        "\n",
        "model1.add(Conv2D(32, (3,3), input_shape=(128,128,1), padding=\"same\", activation=\"leaky_relu\"))\n",
        "model1.add(MaxPool2D(2,2))\n",
        "model1.add(Conv2D(64, (3,3), padding=\"same\", activation=\"leaky_relu\"))\n",
        "model1.add(MaxPool2D(2,2))\n",
        "model1.add(Conv2D(128, (3,3), padding=\"same\", activation=\"leaky_relu\"))\n",
        "model1.add(MaxPool2D(2,2))\n",
        "model1.add(Conv2D(256, (3,3), padding=\"same\", activation=\"leaky_relu\"))\n",
        "model1.add(MaxPool2D(2,2))\n",
        "model1.add(GlobalAveragePooling2D())\n",
        "model1.add(Dense(256, activation=\"leaky_relu\"))\n",
        "model1.add(Dense(64, activation=\"leaky_relu\"))\n",
        "model1.add(Dense(48, activation=\"sigmoid\"))"
      ]
    },
    {
      "cell_type": "code",
      "execution_count": null,
      "metadata": {
        "id": "PXiA8r3gGgUP"
      },
      "outputs": [],
      "source": [
        "model1.summary()"
      ]
    },
    {
      "cell_type": "code",
      "execution_count": 36,
      "metadata": {
        "id": "LOilfn1-Gmon"
      },
      "outputs": [],
      "source": [
        "class CustomCallbacks(keras.callbacks.Callback):\n",
        "  def on_epoch_end(self,epoch,logs={}):\n",
        "    prediction = model1.predict(x_test[0].reshape(1, 128, 128, 1))\n",
        "    fig, ax = plt.subplots(1)\n",
        "    ax.imshow(x_test[0])\n",
        "    x1 = int(prediction[0][0]*128)\n",
        "    y1 = int(prediction[0][1]*128)\n",
        "    x2 = int(prediction[0][2]*128)\n",
        "    y2 = int(prediction[0][3]*128)\n",
        "    rect = patches.Rectangle((x1, y1), x2-x1, y2-y1, linewidth=1,edgecolor='r', facecolor=\"none\")\n",
        "    ax.add_patch(rect)\n",
        "    plt.show()"
      ]
    },
    {
      "cell_type": "code",
      "execution_count": 37,
      "metadata": {
        "id": "FCzRz_kHGpVm"
      },
      "outputs": [],
      "source": [
        "model1.compile(optimizer = \"adam\", loss=\"binary_crossentropy\", metrics=['accuracy', keras.metrics.Precision(name='precision_metric')])"
      ]
    },
    {
      "cell_type": "code",
      "execution_count": null,
      "metadata": {
        "id": "9ptyopOhGrXH"
      },
      "outputs": [],
      "source": [
        "history1 = model1.fit(x_train, y_train, validation_data=(x_test, y_test), epochs=100, callbacks=[CustomCallbacks()])"
      ]
    },
    {
      "cell_type": "code",
      "execution_count": null,
      "metadata": {
        "id": "mZzO4CbkHBs-"
      },
      "outputs": [],
      "source": [
        "plt.plot(history1.history[\"val_loss\"])\n",
        "plt.plot(history1.history[\"loss\"])\n",
        "plt.legend([\"valid\", \"train\"])\n",
        "plt.show()"
      ]
    },
    {
      "cell_type": "code",
      "source": [
        "plt.plot(history1.history[\"val_accuracy\"])\n",
        "plt.plot(history1.history[\"accuracy\"])\n",
        "plt.legend([\"valid\", \"train\"])\n",
        "plt.show()"
      ],
      "metadata": {
        "id": "tqxGV5gL-Sdz"
      },
      "execution_count": null,
      "outputs": []
    },
    {
      "cell_type": "code",
      "execution_count": 41,
      "metadata": {
        "colab": {
          "base_uri": "https://localhost:8080/"
        },
        "id": "vibKpY0xHFJV",
        "outputId": "afd9a8e8-dbf7-4948-a882-5b04e7b40613"
      },
      "outputs": [
        {
          "output_type": "stream",
          "name": "stdout",
          "text": [
            "7/7 [==============================] - 0s 7ms/step\n"
          ]
        },
        {
          "output_type": "execute_result",
          "data": {
            "text/plain": [
              "(221, 128, 128, 1)"
            ]
          },
          "metadata": {},
          "execution_count": 41
        }
      ],
      "source": [
        "y_pred = model1.predict(x_test)\n",
        "x_test.shape"
      ]
    },
    {
      "cell_type": "code",
      "source": [
        "y_pred1 = model1.predict(images_test)\n",
        "images_test.shape"
      ],
      "metadata": {
        "colab": {
          "base_uri": "https://localhost:8080/"
        },
        "id": "Ll6ILEo0DaJW",
        "outputId": "a9979422-89d8-4dc2-b9bd-e43b60790fe2"
      },
      "execution_count": 42,
      "outputs": [
        {
          "output_type": "stream",
          "name": "stdout",
          "text": [
            "2/2 [==============================] - 0s 172ms/step\n"
          ]
        },
        {
          "output_type": "execute_result",
          "data": {
            "text/plain": [
              "(50, 128, 128, 1)"
            ]
          },
          "metadata": {},
          "execution_count": 42
        }
      ]
    },
    {
      "cell_type": "code",
      "execution_count": 43,
      "metadata": {
        "colab": {
          "base_uri": "https://localhost:8080/"
        },
        "id": "gwO7_XtuHKCt",
        "outputId": "f26e8e8c-c56c-4b1c-fbdf-7784043c8b8e"
      },
      "outputs": [
        {
          "output_type": "stream",
          "name": "stdout",
          "text": [
            "mean absolute error is 0.024923669791640818\n"
          ]
        },
        {
          "output_type": "execute_result",
          "data": {
            "text/plain": [
              "(50, 48)"
            ]
          },
          "metadata": {},
          "execution_count": 43
        }
      ],
      "source": [
        "print(f\"mean absolute error is {mean_absolute_error(y_pred, y_test)}\")\n",
        "conjunto_imagens.shape"
      ]
    },
    {
      "cell_type": "code",
      "source": [
        "print(f\"mean absolute error is {mean_absolute_error(y_pred1, conjunto_imagens)}\")"
      ],
      "metadata": {
        "colab": {
          "base_uri": "https://localhost:8080/"
        },
        "id": "_JQ1EWLYDZC4",
        "outputId": "89451ed9-738e-4559-e3b9-08d77a8c7643"
      },
      "execution_count": 44,
      "outputs": [
        {
          "output_type": "stream",
          "name": "stdout",
          "text": [
            "mean absolute error is 0.033243012470697754\n"
          ]
        }
      ]
    },
    {
      "cell_type": "code",
      "execution_count": 45,
      "metadata": {
        "id": "kbC3mhqdHOHP"
      },
      "outputs": [],
      "source": [
        "model2 = Sequential()\n",
        "\n",
        "model2.add(Conv2D(32, (3,3), input_shape=(128,128,1), activation=\"relu\"))\n",
        "model2.add(Dropout(0.1))\n",
        "model2.add(MaxPool2D(2,2))\n",
        "model2.add(BatchNormalization())\n",
        "model2.add(Conv2D(64, (3,3), activation=\"relu\"))\n",
        "model2.add(Dropout(0.1))\n",
        "model2.add(MaxPool2D(2,2))\n",
        "model2.add(BatchNormalization())\n",
        "model2.add(Conv2D(128, (3,3), activation=\"relu\"))\n",
        "model2.add(Dropout(0.2))\n",
        "model2.add(MaxPool2D(2,2))\n",
        "model2.add(BatchNormalization())\n",
        "model2.add(Conv2D(256, (3,3), activation=\"relu\"))\n",
        "model2.add(Dropout(0.3))\n",
        "model2.add(MaxPool2D(2,2))\n",
        "model2.add(BatchNormalization())\n",
        "model2.add(GlobalAveragePooling2D())\n",
        "model2.add(Dense(256, activation=\"leaky_relu\"))\n",
        "model2.add(Dense(48, activation=\"sigmoid\"))"
      ]
    },
    {
      "cell_type": "code",
      "execution_count": null,
      "metadata": {
        "id": "FHJiH7qjHPmO"
      },
      "outputs": [],
      "source": [
        "model2.summary()"
      ]
    },
    {
      "cell_type": "code",
      "execution_count": 47,
      "metadata": {
        "id": "wrm_lNbIHUOV"
      },
      "outputs": [],
      "source": [
        "class CustomCallbacks2(keras.callbacks.Callback):\n",
        "  def on_epoch_end(self,epoch,logs={}):\n",
        "    prediction = model2.predict(x_test[0].reshape(1, 128, 128, 1))\n",
        "    fig, ax = plt.subplots(1)\n",
        "    ax.imshow(x_test[0])\n",
        "    x1 = int(prediction[0][0]*128)\n",
        "    y1 = int(prediction[0][1]*128)\n",
        "    x2 = int(prediction[0][2]*128)\n",
        "    y2 = int(prediction[0][3]*128)\n",
        "    rect = patches.Rectangle((x1, y1), x2-x1, y2-y1, linewidth=1,edgecolor='r', facecolor=\"none\")\n",
        "    ax.add_patch(rect)\n",
        "    plt.show()"
      ]
    },
    {
      "cell_type": "code",
      "execution_count": 48,
      "metadata": {
        "id": "HiDAhmCAHXNF"
      },
      "outputs": [],
      "source": [
        "model2.compile(optimizer=\"adam\", loss=\"binary_crossentropy\", metrics=['accuracy', keras.metrics.Precision(name='precision_metric')])\n"
      ]
    },
    {
      "cell_type": "code",
      "execution_count": null,
      "metadata": {
        "id": "BQvnvFdBHZX9"
      },
      "outputs": [],
      "source": [
        "history2 = model2.fit(x_train, y_train, validation_data=(x_test, y_test), batch_size=8, epochs=100, callbacks=[CustomCallbacks2()])"
      ]
    },
    {
      "cell_type": "code",
      "execution_count": null,
      "metadata": {
        "id": "9ibC4G2KIEKr"
      },
      "outputs": [],
      "source": [
        "plt.plot(history2.history[\"val_loss\"])\n",
        "plt.plot(history2.history[\"loss\"])\n",
        "plt.legend([\"valid\", \"train\"])\n",
        "plt.show()"
      ]
    },
    {
      "cell_type": "code",
      "execution_count": null,
      "metadata": {
        "id": "0u2auBXLRNcW"
      },
      "outputs": [],
      "source": [
        "plt.plot(history2.history[\"accuracy\"])\n",
        "plt.plot(history2.history[\"val_accuracy\"])\n",
        "plt.legend([\"valid\", \"train\"])\n",
        "plt.show()"
      ]
    },
    {
      "cell_type": "code",
      "execution_count": null,
      "metadata": {
        "id": "uVggJMO2Ropp"
      },
      "outputs": [],
      "source": [
        "plt.plot(history2.history[\"precision_metric\"])\n",
        "plt.plot(history2.history[\"val_precision_metric\"])\n",
        "plt.legend([\"valid\", \"train\"])\n",
        "plt.show()"
      ]
    },
    {
      "cell_type": "code",
      "execution_count": null,
      "metadata": {
        "id": "gCallUjVJvtu"
      },
      "outputs": [],
      "source": [
        "plt.plot(history2.history[\"val_loss\"])\n",
        "plt.plot(history2.history[\"loss\"])\n",
        "plt.legend([\"valid\", \"train\"])\n",
        "plt.show()"
      ]
    },
    {
      "cell_type": "code",
      "execution_count": 54,
      "metadata": {
        "colab": {
          "base_uri": "https://localhost:8080/"
        },
        "id": "OSk-kEYkIIRn",
        "outputId": "bc6c40c6-3fb7-4319-8d3a-456d05461df2"
      },
      "outputs": [
        {
          "output_type": "stream",
          "name": "stdout",
          "text": [
            "2/2 [==============================] - 0s 138ms/step\n"
          ]
        }
      ],
      "source": [
        "y_pred2 = model2.predict(images_test)"
      ]
    },
    {
      "cell_type": "code",
      "execution_count": 55,
      "metadata": {
        "colab": {
          "base_uri": "https://localhost:8080/"
        },
        "id": "wM0ULLCXIKXc",
        "outputId": "1869a567-dcdd-4c5f-8f92-1c58c382a283"
      },
      "outputs": [
        {
          "output_type": "stream",
          "name": "stdout",
          "text": [
            "mean absolute error is 0.029422604494255877\n"
          ]
        }
      ],
      "source": [
        "print(f\"mean absolute error is {mean_absolute_error(y_pred2, conjunto_imagens)}\")"
      ]
    },
    {
      "cell_type": "code",
      "source": [
        "resultado2 = model2.evaluate(images_test, conjunto_imagens)\n",
        "print(\"Perda (Loss):\", resultado2[0])\n",
        "print(\"Acurácia:\", resultado2[1])"
      ],
      "metadata": {
        "colab": {
          "base_uri": "https://localhost:8080/"
        },
        "id": "n8JK4ANQ0aX7",
        "outputId": "e60ff2c7-959a-4959-9789-20a042be1017"
      },
      "execution_count": 56,
      "outputs": [
        {
          "output_type": "stream",
          "name": "stdout",
          "text": [
            "2/2 [==============================] - 0s 12ms/step - loss: 0.2646 - accuracy: 0.8400 - precision_metric: 1.0000\n",
            "Perda (Loss): 0.2645699977874756\n",
            "Acurácia: 0.8399999737739563\n"
          ]
        }
      ]
    },
    {
      "cell_type": "code",
      "execution_count": 57,
      "metadata": {
        "id": "VBZae3W6PSSX",
        "colab": {
          "base_uri": "https://localhost:8080/"
        },
        "outputId": "25d9387a-19b8-4441-afa9-f79559f15250"
      },
      "outputs": [
        {
          "output_type": "stream",
          "name": "stdout",
          "text": [
            "2/2 [==============================] - 0s 10ms/step - loss: 0.3026 - accuracy: 0.8000 - precision_metric: 0.9589\n",
            "Perda (Loss): 0.30261996388435364\n",
            "Acurácia: 0.800000011920929\n"
          ]
        }
      ],
      "source": [
        "resultado1 = model1.evaluate(images_test, conjunto_imagens)\n",
        "print(\"Perda (Loss):\", resultado1[0])\n",
        "print(\"Acurácia:\", resultado1[1])"
      ]
    },
    {
      "cell_type": "code",
      "source": [
        "modelos = ['Modelo 1', 'Modelo 2']\n",
        "perda = [resultado1[0], resultado2[0]]\n",
        "acuracia = [resultado1[1], resultado2[1]]\n",
        "largura_barra = 0.35\n",
        "indices = range(len(modelos))\n",
        "fig, ax = plt.subplots()\n",
        "barra_perda = ax.bar(indices, perda, largura_barra, label='Perda')\n",
        "barra_acuracia = ax.bar([p + largura_barra for p in indices], acuracia, largura_barra, label='Acurácia')\n",
        "ax.set_xlabel('Modelos')\n",
        "ax.set_ylabel('Valor')\n",
        "ax.set_title('Comparação de Métricas entre Modelos')\n",
        "ax.set_xticks([p + largura_barra / 2 for p in indices])\n",
        "ax.set_xticklabels(modelos)\n",
        "ax.legend()\n",
        "for i in range(len(perda)):\n",
        "    ax.text(i, perda[i] + 0.02, round(perda[i], 2), ha='center', va='bottom')\n",
        "    ax.text(i + largura_barra, acuracia[i] + 0.02, round(acuracia[i], 2), ha='center', va='bottom')\n",
        "plt.show()\n"
      ],
      "metadata": {
        "colab": {
          "base_uri": "https://localhost:8080/",
          "height": 472
        },
        "id": "vdtwZ5ZQ42rP",
        "outputId": "3ac91e95-e6dc-4ce2-f0d8-22b3d99833b5"
      },
      "execution_count": 58,
      "outputs": [
        {
          "output_type": "display_data",
          "data": {
            "text/plain": [
              "<Figure size 640x480 with 1 Axes>"
            ],
            "image/png": "[encoded data removed]"
          },
          "metadata": {}
        }
      ]
    },
    {
      "cell_type": "code",
      "execution_count": 59,
      "metadata": {
        "id": "bowBskZ0INNK"
      },
      "outputs": [],
      "source": [
        "def model1_predictions(img_number):\n",
        "  model1_prediction = model1.predict(images_test[img_number].reshape(1, 128, 128, 1))\n",
        "  model1_prediction = model1_prediction[0]\n",
        "  img = images_test[img_number]\n",
        "\n",
        "  count = 0\n",
        "  bbox1 = []\n",
        "  for i in model1_prediction:\n",
        "    bbox1.append(i)\n",
        "    count+=1\n",
        "    if count==4:\n",
        "      count = 0\n",
        "      plt.subplot(1,2,1)\n",
        "      plt.imshow(img)\n",
        "      x1 = int(bbox1[0]*128)\n",
        "      y1 = int(bbox1[1]*128)\n",
        "      x2 = int(bbox1[2]*128)\n",
        "      y2 = int(bbox1[3]*128)\n",
        "      plt.gca().add_patch(patches.Rectangle((x1, y1), x2-x1, y2-y1, linewidth=1,edgecolor='r', facecolor=\"none\"))\n",
        "      bbox1 = []\n",
        "  plt.show()"
      ]
    },
    {
      "cell_type": "code",
      "execution_count": 60,
      "metadata": {
        "colab": {
          "base_uri": "https://localhost:8080/",
          "height": 307
        },
        "id": "Ek6X3LTPIPbF",
        "outputId": "80e29d58-ab38-43a6-ab36-c6078c6ae8a1"
      },
      "outputs": [
        {
          "output_type": "stream",
          "name": "stdout",
          "text": [
            "1/1 [==============================] - 0s 21ms/step\n"
          ]
        },
        {
          "output_type": "display_data",
          "data": {
            "text/plain": [
              "<Figure size 640x480 with 1 Axes>"
            ],
            "image/png": "[encoded data removed]"
          },
          "metadata": {}
        }
      ],
      "source": [
        "model1_predictions(0)"
      ]
    },
    {
      "cell_type": "code",
      "execution_count": 61,
      "metadata": {
        "id": "s7oSIZAOISqs"
      },
      "outputs": [],
      "source": [
        "def model2_predictions(img_number):\n",
        "  model2_prediction = model2.predict(images_test[img_number].reshape(1, 128, 128, 1))\n",
        "  model2_prediction = model2_prediction[0]\n",
        "  img = images_test[img_number]\n",
        "\n",
        "  count = 0\n",
        "  bbox1 = []\n",
        "  for i in model2_prediction:\n",
        "    bbox1.append(i)\n",
        "    count+=1\n",
        "    if count==4:\n",
        "      count = 0\n",
        "      plt.subplot(1,2,1)\n",
        "      plt.imshow(img)\n",
        "      x1 = int(bbox1[0]*128)\n",
        "      y1 = int(bbox1[1]*128)\n",
        "      x2 = int(bbox1[2]*128)\n",
        "      y2 = int(bbox1[3]*128)\n",
        "      plt.gca().add_patch(patches.Rectangle((x1, y1), x2-x1, y2-y1, linewidth=1,edgecolor='r', facecolor=\"none\"))\n",
        "      bbox1 = []\n",
        "  plt.show()"
      ]
    },
    {
      "cell_type": "code",
      "execution_count": 62,
      "metadata": {
        "colab": {
          "base_uri": "https://localhost:8080/",
          "height": 307
        },
        "id": "SrpHAeO0IU79",
        "outputId": "17ea4a9f-a8a9-496e-e5b1-7ccb06118d3e"
      },
      "outputs": [
        {
          "output_type": "stream",
          "name": "stdout",
          "text": [
            "1/1 [==============================] - 0s 18ms/step\n"
          ]
        },
        {
          "output_type": "display_data",
          "data": {
            "text/plain": [
              "<Figure size 640x480 with 1 Axes>"
            ],
            "image/png": "[encoded data removed]"
          },
          "metadata": {}
        }
      ],
      "source": [
        "model2_predictions(5)"
      ]
    }
  ],
  "metadata": {
    "accelerator": "GPU",
    "colab": {
      "machine_shape": "hm",
      "provenance": [],
      "authorship_tag": "ABX9TyPjU0nFe8iPn8oz6E9N4i2E",
      "include_colab_link": true
    },
    "kernelspec": {
      "display_name": "Python 3",
      "name": "python3"
    },
    "language_info": {
      "name": "python"
    }
  },
  "nbformat": 4,
  "nbformat_minor": 0
}